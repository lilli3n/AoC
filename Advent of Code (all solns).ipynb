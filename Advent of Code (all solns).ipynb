{
 "cells": [
  {
   "cell_type": "markdown",
   "id": "f0aa9572",
   "metadata": {},
   "source": [
    "# Advent of Code all solutions\n",
    "https://adventofcode.com/"
   ]
  },
  {
   "cell_type": "code",
   "execution_count": 6,
   "id": "b3f66e61",
   "metadata": {},
   "outputs": [
    {
     "data": {
      "text/plain": [
       "'rhqrpdxsqhgxzknr2foursnrcfthree'"
      ]
     },
     "execution_count": 6,
     "metadata": {},
     "output_type": "execute_result"
    }
   ],
   "source": [
    "#IMPORT GAME FILE \n",
    "import pandas as pd\n",
    "import os\n",
    "# os.listdir(os.curdir)\n",
    "f = open(\"dayone.txt\", \"r\")   #Change file\n",
    "words = f.read().split()   #Adjust split*\n",
    "words[0]"
   ]
  },
  {
   "cell_type": "markdown",
   "id": "9e9454d6",
   "metadata": {},
   "source": [
    "### Day 1"
   ]
  },
  {
   "cell_type": "code",
   "execution_count": 7,
   "id": "60d12c01",
   "metadata": {},
   "outputs": [
    {
     "data": {
      "text/plain": [
       "55208"
      ]
     },
     "execution_count": 7,
     "metadata": {},
     "output_type": "execute_result"
    }
   ],
   "source": [
    "#P1\n",
    "def get_tens(words):\n",
    "    grand_total = 0\n",
    "    total = []\n",
    "    for line in words:\n",
    "        first_dig = 0\n",
    "        last_dig = 0\n",
    "        nums = []  #append to array\n",
    "        for c in line:\n",
    "            if c.isdigit():\n",
    "                nums.append(c)\n",
    "        first_dig = nums[0]\n",
    "        last_dig = nums[-1]\n",
    "#         print(first_dig, last_dig)\n",
    "        #join for 1 digit\n",
    "        total.append(int(first_dig + last_dig))\n",
    "    \n",
    "    grand_total = sum(total)\n",
    "    return(grand_total)\n",
    "\n",
    "get_tens(words)"
   ]
  },
  {
   "cell_type": "code",
   "execution_count": 177,
   "id": "f90f00b8",
   "metadata": {},
   "outputs": [
    {
     "name": "stdout",
     "output_type": "stream",
     "text": [
      "54541\n"
     ]
    }
   ],
   "source": [
    "#Day1 P2\n",
    "def alpha_to_dig(arr):\n",
    "    spelling = ['one','two','three','four','five',\n",
    "           'six','seven','eight','nine']\n",
    "    dig = [1,2,3,4,5,6,7,8,9]\n",
    "    \n",
    "    return(dig[spelling.index(arr)])  #return digit in same pos\n",
    "\n",
    "def new_calibration_func(current_word):\n",
    "#     print(current_word)\n",
    "    digits = []\n",
    "    pos = []  #combine word position\n",
    "    spelling = ['one','two','three','four','five',\n",
    "               'six','seven','eight','nine']\n",
    "    for num in spelling:  #letters\n",
    "        if (num in current_word):\n",
    "            if num in pos:\n",
    "                pos.append(current_word.rfind(num))   #multiple, find last\n",
    "            else:\n",
    "                pos.append(current_word.find(num))\n",
    "            digits.append(alpha_to_dig(num))\n",
    "\n",
    "    for c in current_word:\n",
    "        if c.isdigit():\n",
    "    #         if c in digits:  \n",
    "    #             pos.append(words[2].rfind(c))  #multiple, find last\n",
    "    #         else:\n",
    "            char_pos = current_word.find(c)\n",
    "            if char_pos in pos:\n",
    "                pos.append(current_word.rfind(c))\n",
    "            else:\n",
    "                pos.append(current_word.find(c))\n",
    "            digits.append(int(c))\n",
    "\n",
    "    out = [pos,digits]\n",
    "#     print(out)\n",
    "\n",
    "    #Find the max & min positions from 1st row of out\n",
    "    #first digit\n",
    "    pos_min = out[0].index(min(out[0]))\n",
    "    pos_max = out[0].index(max(out[0]))\n",
    "    first_dig = out[1][pos_min]\n",
    "    last_dig = out[1][pos_max]\n",
    "    total = first_dig*10+last_dig\n",
    "    return total\n",
    "\n",
    "#Usage\n",
    "total=[]\n",
    "for line in words:\n",
    "    total.append(new_calibration_func(line))\n",
    "grand_total = sum(total)\n",
    "print(grand_total)"
   ]
  },
  {
   "cell_type": "markdown",
   "id": "57d9e195",
   "metadata": {},
   "source": [
    "## D2\n",
    "P1. Find which games are legal given only 12 red cubes, 13 green cubes, and 14 blue cubes"
   ]
  },
  {
   "cell_type": "code",
   "execution_count": 18,
   "id": "c496a9b0",
   "metadata": {},
   "outputs": [
    {
     "data": {
      "text/plain": [
       "'Game 1: 7 red, 14 blue; 2 blue, 3 red, 3 green; 4 green, 12 blue, 15 red; 3 green, 12 blue, 3 red; 11 red, 2 green'"
      ]
     },
     "execution_count": 18,
     "metadata": {},
     "output_type": "execute_result"
    }
   ],
   "source": [
    "import pandas as pd\n",
    "import os\n",
    "#Read game txt file\n",
    "f = open(\"daytwo.txt\", \"r\")  #ADJUST THIS\n",
    "games = f.read().split('\\n')\n",
    "games[0]"
   ]
  },
  {
   "cell_type": "code",
   "execution_count": 20,
   "id": "538b3baf",
   "metadata": {},
   "outputs": [
    {
     "name": "stdout",
     "output_type": "stream",
     "text": [
      "[' 7 red, 14 blue', ' 2 blue, 3 red, 3 green', ' 4 green, 12 blue, 15 red', ' 3 green, 12 blue, 3 red', ' 11 red, 2 green']\n"
     ]
    }
   ],
   "source": [
    "#P1 \n",
    "\"Function returns False if game is illegal - more than max no. of cubes\"\n",
    "#Define rules\n",
    "maxred = 12\n",
    "maxgreen = 13\n",
    "maxblue= 14\n",
    "\n",
    "#Get game ID\n",
    "\"for game in games\"\n",
    "game = games[0]\n",
    "game_id = game[game.find(':')-1]  #get num before ':'\n",
    "\n",
    "#Get draws, separate by ': ;' delims\n",
    "game_split = game.split(';')\n",
    "game_split[0] = game_split[0].split(':')[-1]   #correct first line\n",
    "print(game_split)"
   ]
  },
  {
   "cell_type": "code",
   "execution_count": 86,
   "id": "3da37e34",
   "metadata": {},
   "outputs": [
    {
     "name": "stdout",
     "output_type": "stream",
     "text": [
      "[' 7 red', ' 14 blue'] (' 7 red, 14 ', 'blue', '')\n"
     ]
    }
   ],
   "source": [
    "field = game_split[0]\n",
    "field_split = field.split(',')\n",
    "field_part = field.partition('blue')\n",
    "print(field_split, field_part)\n",
    "\n",
    "\n",
    "# print(out)\n",
    "# out.index('blue')"
   ]
  },
  {
   "cell_type": "code",
   "execution_count": null,
   "id": "ef7fac33",
   "metadata": {},
   "outputs": [],
   "source": [
    "def check_colour(string):  \n",
    "    \"draw within game (pre-split by ';')\"\n",
    "    rgb = [0,0,0]\n",
    "    "
   ]
  },
  {
   "cell_type": "markdown",
   "id": "e4d8d283",
   "metadata": {},
   "source": [
    "1. Split draw by ',' into monochrome field\n",
    "2. (initialise 0000s for whole game)\n",
    "3. If r/g/b in there, use partition to get num\n",
    "4. Do final check if any of the ... - run check on highest num? Store max_r_i, etc. "
   ]
  },
  {
   "cell_type": "code",
   "execution_count": 38,
   "id": "7cf2ad5e",
   "metadata": {
    "collapsed": true
   },
   "outputs": [
    {
     "name": "stdout",
     "output_type": "stream",
     "text": [
      "[' 7 red', ' 14 blue']\n"
     ]
    },
    {
     "ename": "TypeError",
     "evalue": "list indices must be integers or slices, not str",
     "output_type": "error",
     "traceback": [
      "\u001b[1;31m---------------------------------------------------------------------------\u001b[0m",
      "\u001b[1;31mTypeError\u001b[0m                                 Traceback (most recent call last)",
      "\u001b[1;32m<ipython-input-38-e7bcb6dca9ce>\u001b[0m in \u001b[0;36m<module>\u001b[1;34m\u001b[0m\n\u001b[0;32m      4\u001b[0m     \u001b[0mout\u001b[0m \u001b[1;33m=\u001b[0m \u001b[0mx\u001b[0m\u001b[1;33m.\u001b[0m\u001b[0mfind\u001b[0m\u001b[1;33m(\u001b[0m\u001b[1;34m'red'\u001b[0m\u001b[1;33m)\u001b[0m\u001b[1;33m\u001b[0m\u001b[1;33m\u001b[0m\u001b[0m\n\u001b[0;32m      5\u001b[0m     \u001b[1;32mif\u001b[0m \u001b[0mout\u001b[0m\u001b[1;33m:\u001b[0m\u001b[1;33m\u001b[0m\u001b[1;33m\u001b[0m\u001b[0m\n\u001b[1;32m----> 6\u001b[1;33m         \u001b[0mprint\u001b[0m\u001b[1;33m(\u001b[0m\u001b[0mfields\u001b[0m\u001b[1;33m[\u001b[0m\u001b[0mx\u001b[0m\u001b[1;33m]\u001b[0m\u001b[1;33m)\u001b[0m\u001b[1;33m\u001b[0m\u001b[1;33m\u001b[0m\u001b[0m\n\u001b[0m",
      "\u001b[1;31mTypeError\u001b[0m: list indices must be integers or slices, not str"
     ]
    }
   ],
   "source": [
    "fields = game_split[0].split(',')\n",
    "# print(fields)\n",
    "for x in fields:\n",
    "    out = x.find('red')\n",
    "    if out:\n",
    "        print(fields[x]\n",
    "#----\n",
    "word = fields[1]\n",
    "out = word.partition('blue')\n",
    "print(out[0])\n",
    "#----\n",
    "red_i = 0\n",
    "for c in fields[1]:\n",
    "    if c.isdigit():\n",
    "        print(c)\n",
    "        if \"blue\" in fields[0]:  #check colour\n",
    "            red_i = c\n",
    "print(red_i)"
   ]
  },
  {
   "cell_type": "code",
   "execution_count": 42,
   "id": "b7d191b1",
   "metadata": {},
   "outputs": [
    {
     "name": "stdout",
     "output_type": "stream",
     "text": [
      "False\n"
     ]
    }
   ],
   "source": [
    "for draw in game_split:\n",
    "    #GET NUM OF EACH COLOUR - extract number 2chars ahead\n",
    "    fields = draw.split(',')\n",
    "    #get num\n",
    "    fields.\n",
    "    \n",
    "    \n",
    "    red_i = draw[draw.find('red')-2]\n",
    "    green_i = draw[draw.find('green')-2]\n",
    "    blue_i = draw[draw.find('blue')-2]\n",
    "    print(red_i,green_i,blue_i)\n",
    "    CHECK AGAINST MAXcolours\n",
    "\n",
    "\n",
    "#     if (red_i > maxred) | (green_i > maxgreen) | (blue_i > maxblue):  #tested\n",
    "#         print(False)"
   ]
  },
  {
   "cell_type": "code",
   "execution_count": 16,
   "id": "eeae0869",
   "metadata": {},
   "outputs": [
    {
     "name": "stdout",
     "output_type": "stream",
     "text": [
      "(0, 1)\n",
      "(1, 2)\n",
      "(2, 3)\n",
      "(3, 4)\n",
      "(4, 5)\n"
     ]
    }
   ],
   "source": [
    "a = [1,2,3,4,5]\n",
    "for i in enumerate(a):\n",
    "    print(i)  #[index, val]"
   ]
  },
  {
   "cell_type": "markdown",
   "id": "3b4856c2",
   "metadata": {},
   "source": [
    "### Extras"
   ]
  },
  {
   "cell_type": "code",
   "execution_count": null,
   "id": "b329d4af",
   "metadata": {},
   "outputs": [],
   "source": [
    "#Day1 P1\n",
    "def get_tens(words):\n",
    "    grand_total = 0\n",
    "    total = []\n",
    "    for line in range(len(words)):\n",
    "        first_dig = 0\n",
    "        last_dig = 0\n",
    "        i = 0\n",
    "        nums = []  #append to array\n",
    "        while (i<len(words[line])):\n",
    "            if words[line][i].isdigit():\n",
    "                nums.append(words[line][i])\n",
    "            i+=1\n",
    "        first_dig = nums[0]\n",
    "        last_dig = nums[-1]\n",
    "#         print(first_dig, last_dig)\n",
    "        #join for 1 digit\n",
    "        total.append(int(first_dig)*10 + int(last_dig))\n",
    "    \n",
    "    grand_total = sum(total)\n",
    "    return(grand_total)\n",
    "\n",
    "get_tens(words)"
   ]
  }
 ],
 "metadata": {
  "kernelspec": {
   "display_name": "Python 3",
   "language": "python",
   "name": "python3"
  },
  "language_info": {
   "codemirror_mode": {
    "name": "ipython",
    "version": 3
   },
   "file_extension": ".py",
   "mimetype": "text/x-python",
   "name": "python",
   "nbconvert_exporter": "python",
   "pygments_lexer": "ipython3",
   "version": "3.8.8"
  }
 },
 "nbformat": 4,
 "nbformat_minor": 5
}
